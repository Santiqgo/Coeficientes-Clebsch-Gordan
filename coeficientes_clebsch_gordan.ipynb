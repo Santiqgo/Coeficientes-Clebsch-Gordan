{
  "nbformat": 4,
  "nbformat_minor": 0,
  "metadata": {
    "colab": {
      "name": "coeficientes clebsch gordan.ipynb",
      "provenance": [],
      "collapsed_sections": []
    },
    "kernelspec": {
      "name": "python3",
      "display_name": "Python 3"
    }
  },
  "cells": [
    {
      "cell_type": "markdown",
      "metadata": {
        "id": "cbJBIWNXlv2J"
      },
      "source": [
        "# Programa computacional \n",
        "## Realizado por: \n",
        "Santiago Quintero, Andres Lopez, Gustavo Castrillon"
      ]
    },
    {
      "cell_type": "code",
      "metadata": {
        "id": "GzEcnRLdgKW2"
      },
      "source": [
        "import numpy as np \n",
        "from sympy.physics.quantum.cg import CG \n",
        "from sympy import S"
      ],
      "execution_count": null,
      "outputs": []
    },
    {
      "cell_type": "markdown",
      "metadata": {
        "id": "k87Rm3ef6BHq"
      },
      "source": [
        "Los coeficientes de Clebsch-Gordan forman una matriz unitaria (ya que son los elementos de cambio de base). Además los elementos de matriz son tomados reales por convención, es decir: \n",
        "\n",
        "$< | >$ por lo general es un número complejo, pero estamos imponiendo que sean reales, tal que:\n",
        "\n",
        "$$ < j_1 j_2; J M | j_1 j_2 ; m_1 m_2 > \\quad = \\quad < j_1 j_2 ;m_1 m_2 |  j_1 j_2; J M>\n",
        "$$  \n",
        "Entonces al tener una matriz unitaria real tenemos una matriz **otogonal**:\n",
        "\n",
        "Así que tenemos la condición de ortogonalidad:\n",
        "\n",
        "$$\n",
        "\\sum_J \\sum_M < j_1 j_2 ;m_1 m_2 |  j_1 j_2; J M > < j_1 j_2 ;m^{'}_1 m^{'}_2 |  j_1 j_2; J M > \\quad = \\delta_{m_1 m^{'}_1} \\delta_{m_2 m^{'}_2}\n",
        "$$\n",
        "\n",
        "\n",
        "$$\n",
        "\\sum_{m_1} \\sum_{m_2} < j_1 j_2 ;m_1 m_2 |  j_1 j_2; J M > < j_1 j_2 ;m_1 m_2 |  j_1 j_2; J^{'} M^{'} > \\quad = \\delta_{J J^{'}} \\delta_{M M^{'}}\n",
        "$$  \n",
        "  \n",
        "*Referencia Sakurai - modern quantum mechanics second edition pag 224*"
      ]
    },
    {
      "cell_type": "markdown",
      "metadata": {
        "id": "n2RGgi91pc8N"
      },
      "source": [
        "## Numeral a"
      ]
    },
    {
      "cell_type": "code",
      "metadata": {
        "id": "CyESr5VJghMM"
      },
      "source": [
        "def ortogonalidadA(J,V,V_p):\n",
        "    j1=J[0]\n",
        "    j2=J[1]\n",
        "    J=V[0]\n",
        "    M=V[1]\n",
        "    J_p=V_p[0]\n",
        "    M_p=V_p[1]  \n",
        "    \n",
        "    m1=np.arange(-j1,j1+1,1) \n",
        "    m2=np.arange(-j2,j2+1,1)\n",
        "    \n",
        "    mul=0 #Para multiplicar el par de coeficientes de Clebs Gordan\n",
        "    for n in m1: \n",
        "        for m in m2: \n",
        "            cg1 = CG(j1,n,j2,m,J,M)\n",
        "            cg2 = CG(j1,n,j2,m,J_p,M_p)\n",
        "            mul+=(cg1.doit())*(cg2.doit())\n",
        "    print('Para | J1 , M1 > =|',J,',',M,'> , | J2 ,M2 > = |',J_p,',',M_p,'> se comprueba que la ortogonalidad es ',mul)\n",
        "    return mul"
      ],
      "execution_count": null,
      "outputs": []
    },
    {
      "cell_type": "code",
      "metadata": {
        "id": "4DBQdEy1glDU",
        "colab": {
          "base_uri": "https://localhost:8080/"
        },
        "outputId": "13c7466f-112c-4339-9091-9e7c7dd9f332"
      },
      "source": [
        "J=[2,1]\n",
        "V=[3,1]\n",
        "V_p=[3,2]\n",
        "c=ortogonalidadA(J,V,V_p)"
      ],
      "execution_count": null,
      "outputs": [
        {
          "output_type": "stream",
          "text": [
            "Para | J1 , M1 > =| 3 , 1 > , | J2 ,M2 > = | 3 , 2 > se comprueba que la ortogonalidad es  0\n"
          ],
          "name": "stdout"
        }
      ]
    },
    {
      "cell_type": "markdown",
      "metadata": {
        "id": "MilT2Z5upYsk"
      },
      "source": [
        "## Numeral b "
      ]
    },
    {
      "cell_type": "code",
      "metadata": {
        "id": "IocDD4RIglc3"
      },
      "source": [
        "def ortogonalidad_CG(j1,j2):\n",
        "  J_todos=[j1+j2,j1-j2]\n",
        "  J_total=abs(j1+j2)\n",
        "  m1_prima = np.random.randint(0,2*j1+1) #tomamos m1_prima de forma aleatoria entre sus posibles valores\n",
        "  m1_prima = j1 - m1_prima\n",
        "  m2_prima = np.random.randint(0,2*j2+1) #tomamos m2_prima de forma aleatoria entre sus posibles valores\n",
        "  m2_prima = j2 - m2_prima\n",
        "  for i in range(int(2*j1+1)):                 # m1 toma valores desde -j1 hasta j1\n",
        "    m1=-j1+i\n",
        "    for k in range(int(2*j2+1)):               # m2 toma valores desde -j2 hasta j2\n",
        "      m2=-j2+k\n",
        "      acum=0.0                               #creo un acumulador para hacer la doble sumatoria\n",
        "      for J in J_todos:\n",
        "        for k1 in range(int(2*J_total+1)):\n",
        "          M=-J_total + k1\n",
        "          c1=CG(j1, m1, j2, m2, J, M)              #defino el primer termino de la sumatoria c1\n",
        "          c2=CG(j1, m1_prima, j2, m2_prima, J, M)  #defino el segundo termino de la sumatoria c2\n",
        "          acum+=(c1.doit())*(c2.doit())\n",
        "      print('m_1_prima fue: ',m1_prima,'m_2_prima fue: ',m2_prima)\n",
        "      print('m_1 fue: ',m1,'m_2 fue: ',m2)\n",
        "      print('resultado: ',acum)\n",
        "  return acum"
      ],
      "execution_count": null,
      "outputs": []
    },
    {
      "cell_type": "code",
      "metadata": {
        "id": "K2IKfP56AyXd",
        "colab": {
          "base_uri": "https://localhost:8080/"
        },
        "outputId": "0fbfcdb3-29ad-4a7e-9652-857ce840efb6"
      },
      "source": [
        "a=ortogonalidad_CG(0.5,0.5)"
      ],
      "execution_count": null,
      "outputs": [
        {
          "output_type": "stream",
          "text": [
            "m_1_prima fue:  -0.5 m_2_prima fue:  0.5\n",
            "m_1 fue:  -0.5 m_2 fue:  -0.5\n",
            "resultado:  0\n",
            "m_1_prima fue:  -0.5 m_2_prima fue:  0.5\n",
            "m_1 fue:  -0.5 m_2 fue:  0.5\n",
            "resultado:  1.00000000000000\n",
            "m_1_prima fue:  -0.5 m_2_prima fue:  0.5\n",
            "m_1 fue:  0.5 m_2 fue:  -0.5\n",
            "resultado:  0\n",
            "m_1_prima fue:  -0.5 m_2_prima fue:  0.5\n",
            "m_1 fue:  0.5 m_2 fue:  0.5\n",
            "resultado:  0\n"
          ],
          "name": "stdout"
        }
      ]
    },
    {
      "cell_type": "markdown",
      "metadata": {
        "id": "TitBmOn1Dd3M"
      },
      "source": [
        "##Aplicación de las condiciones de ortogonalidad \n",
        "\n",
        "Dado $$\\left|jm_j\\right> = R_j \\sum_{k} \\sum_{\\mu} \\left< l k \\frac{1}{2} \\mu|jm_j  \\right> Y_{lk} \\chi_{\\mu} $$\n",
        "\n",
        "\n",
        "Aplicando la cantidad  $\\sum_{j \\prime} \\sum_{m_j \\prime} \\left< l k \\frac{1}{2} \\mu|j \\prime m_j \\prime \\right>\\left|jm_j\\right>$  a ambos lados de la ecuación anterior tenemos que: \n",
        "\n",
        "$$\\sum_{j \\prime} \\sum_{m_j \\prime} \\left< l k \\frac{1}{2} \\mu|j \\prime m_j \\prime \\right>\\left|jm_j\\right> = R_j \\sum_{k} \\sum_{\\mu} \\sum_{j \\prime} \\sum_{m_j \\prime} \\left< l k \\frac{1}{2} \\mu|j \\prime m_j \\prime \\right>\\left< l k \\frac{1}{2} \\mu|jm_j  \\right> Y_{lk} \\chi_{\\mu}$$\n",
        "\n",
        "Por lo demostrado en el punto anterior (el punto 1 de este mismo notebook) se sabe que una de las condiciones de ortonormalidad de los coeficientes de Clebsch-Gordan cumplen que: \n",
        "\n",
        "$$ \\sum_{m_1} \\sum_{m_2} < j_1 j_2 ;m_1 m_2 |  j_1 j_2; J M > < j_1 j_2 ;m_1 m_2 |  j_1 j_2; J^{'} M^{'} >\\quad= \\delta_{J J^{'}} \\delta_{M M^{'}} $$\n",
        "\n",
        "Por lo que nos queda que: \n",
        "\n",
        "$$\\sum_{j \\prime} \\sum_{m_j \\prime} \\left< l k \\frac{1}{2} \\mu|j \\prime m_j \\prime \\right>\\left|jm_j\\right> = R_j \\sum_{j \\prime} \\sum_{m_j \\prime} \\delta_{j j^{'}} \\delta_{m m_j^{'}} Y_{lk} \\chi_{\\mu}$$\n",
        "\n",
        "Entonces $$  R_j Y_{lk} \\chi_{\\mu} = \\sum_{j} \\sum_{m_j} \\left< l k \\frac{1}{2} \\mu|j m_j \\right>\\left|jm_j\\right>$$\n",
        "\n",
        "Ahora veamos algunos casos. Para esto observamos los subindices, la prueba es mostrar que: \n",
        "$$ \\sum_{j} \\sum_{m_j} \\sum_{k \\prime} \\sum_{\\mu \\prime} \\left< l k \\frac{1}{2} \\mu|jm_j  \\right>  \\left< l k\\prime \\frac{1}{2} \\mu\\prime|j  m_j \\right> = 1$$\n"
      ]
    },
    {
      "cell_type": "code",
      "metadata": {
        "id": "ptMt2OUuCwBB"
      },
      "source": [
        "def fun(l,k,mu): #ingresa los valores l, m_l y n\n",
        "  #se toman las maximas proyecciones de j y m_j\n",
        "  j = l + 0.5\n",
        "  mj= k + 0.5\n",
        "  #######\n",
        "  suma=0\n",
        "\n",
        "  for i in range(-l,l+1):#se inicia a tomar todos los valores posibles de m_l\n",
        "      for q in range(2):\n",
        "        if q==0:\n",
        "          m = 1/2 #spin arriba\n",
        "        else:\n",
        "          m= -1/2 #spin abajo\n",
        "\n",
        "        for r in range(l+1): #iteracion sobre los valores de j\n",
        "          for s in range(int(2*(j-r)+1)): #iteracion sobre los valores de m_j\n",
        "            suma+= CG(l,k,1/2,mu,j-r,j-r-s)* CG(l,i,1/2,m,j-r,j-r-s)#se realiza la operacion hallada para RjYlkXu\n",
        "  print (suma.doit()) #se imprime ya que se observa un error en la entrada a los condicionales\n",
        "  if suma.doit() ==1:#como se toman estados arbitrarios hay que obtener valores posibles los cuales cumple que la sumatoria anterior sea igual a 1 \n",
        "    return print(\"la suma da 1 por lo tanto el estado es posible\")\n",
        "  else:\n",
        "    return print(\"la suma da diferente de 1 por lo tanto el estado no es posible\")"
      ],
      "execution_count": null,
      "outputs": []
    },
    {
      "cell_type": "markdown",
      "metadata": {
        "id": "wYZCL_He8SNI"
      },
      "source": [
        "Ahora veamos un pequeño ejemplo"
      ]
    },
    {
      "cell_type": "code",
      "metadata": {
        "id": "OTZNDfn4drDf",
        "colab": {
          "base_uri": "https://localhost:8080/"
        },
        "outputId": "d6ea8996-6af8-4332-e531-4f46e671b3da"
      },
      "source": [
        "fun(1,1,-1/2)"
      ],
      "execution_count": null,
      "outputs": [
        {
          "output_type": "stream",
          "text": [
            "1.00000000000000\n",
            "la suma da 1 por lo tanto el estado es posible\n"
          ],
          "name": "stdout"
        }
      ]
    },
    {
      "cell_type": "code",
      "metadata": {
        "id": "wHNVO6JCNFaN",
        "colab": {
          "base_uri": "https://localhost:8080/"
        },
        "outputId": "852f1a53-9a1b-43de-e8e0-b15a8f437ed5"
      },
      "source": [
        "fun(3,3,1/2)"
      ],
      "execution_count": null,
      "outputs": [
        {
          "output_type": "stream",
          "text": [
            "1.00000000000000\n",
            "la suma da diferente de 1 por lo tanto el estado no es posible\n"
          ],
          "name": "stdout"
        }
      ]
    },
    {
      "cell_type": "code",
      "metadata": {
        "id": "ROfkdCzODhww",
        "colab": {
          "base_uri": "https://localhost:8080/"
        },
        "outputId": "a0a68219-a15c-4084-a8fc-79818af9fcaa"
      },
      "source": [
        "fun(3,-1,-1/2)"
      ],
      "execution_count": null,
      "outputs": [
        {
          "output_type": "stream",
          "text": [
            "5.55111512312578e-17*sqrt(10) + 1.0\n",
            "la suma da diferente de 1 por lo tanto el estado no es posible\n"
          ],
          "name": "stdout"
        }
      ]
    },
    {
      "cell_type": "code",
      "metadata": {
        "id": "N0gOa6-ZKaXD",
        "colab": {
          "base_uri": "https://localhost:8080/"
        },
        "outputId": "b6620f94-628f-47be-dbf5-bae9b6d24343"
      },
      "source": [
        "fun(2,-4,1/2)#observar que es imposible, se toma para ver que el algoritmo funcione"
      ],
      "execution_count": null,
      "outputs": [
        {
          "output_type": "stream",
          "text": [
            "0\n",
            "la suma da diferente de 1 por lo tanto el estado no es posible\n"
          ],
          "name": "stdout"
        }
      ]
    }
  ]
}